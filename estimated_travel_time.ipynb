{
  "nbformat": 4,
  "nbformat_minor": 0,
  "metadata": {
    "colab": {
      "name": "10701 Project",
      "provenance": [],
      "collapsed_sections": [],
      "include_colab_link": true
    },
    "kernelspec": {
      "name": "python3",
      "display_name": "Python 3"
    }
  },
  "cells": [
    {
      "cell_type": "markdown",
      "metadata": {
        "id": "view-in-github",
        "colab_type": "text"
      },
      "source": [
        "<a href=\"https://colab.research.google.com/github/seanjincmu/myprojects/blob/master/estimated_travel_time.ipynb\" target=\"_parent\"><img src=\"https://colab.research.google.com/assets/colab-badge.svg\" alt=\"Open In Colab\"/></a>"
      ]
    },
    {
      "cell_type": "code",
      "metadata": {
        "id": "uX-7a9W0eRhh",
        "colab_type": "code",
        "outputId": "8d8d92ca-a365-45b6-b0df-8b1a3efc8199",
        "colab": {
          "base_uri": "https://localhost:8080/",
          "height": 34
        }
      },
      "source": [
        "!pip install pyproj\n",
        "from pyproj import Proj"
      ],
      "execution_count": 0,
      "outputs": [
        {
          "output_type": "stream",
          "text": [
            "Requirement already satisfied: pyproj in /usr/local/lib/python3.6/dist-packages (2.4.2.post1)\n"
          ],
          "name": "stdout"
        }
      ]
    },
    {
      "cell_type": "code",
      "metadata": {
        "id": "w1Ka-ieUSf3M",
        "colab_type": "code",
        "outputId": "b32b62e5-4f94-4491-bebb-b6296b028905",
        "colab": {
          "base_uri": "https://localhost:8080/",
          "height": 121
        }
      },
      "source": [
        "from google.colab import drive\n",
        "drive.mount('/content/drive/', force_remount=True)"
      ],
      "execution_count": 0,
      "outputs": [
        {
          "output_type": "stream",
          "text": [
            "Go to this URL in a browser: https://accounts.google.com/o/oauth2/auth?client_id=947318989803-6bn6qk8qdgf4n4g3pfee6491hc0brc4i.apps.googleusercontent.com&redirect_uri=urn%3aietf%3awg%3aoauth%3a2.0%3aoob&response_type=code&scope=email%20https%3a%2f%2fwww.googleapis.com%2fauth%2fdocs.test%20https%3a%2f%2fwww.googleapis.com%2fauth%2fdrive%20https%3a%2f%2fwww.googleapis.com%2fauth%2fdrive.photos.readonly%20https%3a%2f%2fwww.googleapis.com%2fauth%2fpeopleapi.readonly\n",
            "\n",
            "Enter your authorization code:\n",
            "··········\n",
            "Mounted at /content/drive/\n"
          ],
          "name": "stdout"
        }
      ]
    },
    {
      "cell_type": "code",
      "metadata": {
        "id": "n5YRfOj0PvjC",
        "colab_type": "code",
        "colab": {}
      },
      "source": [
        "import pandas as pd\n",
        "core_folder = \"drive/My Drive/10701 Project/\"\n",
        "maps = pd.read_csv(core_folder+ \"Maps/taxi_zone_lookup.csv\")\n",
        "#this reads in a pandas dataframe of the taxi_zone_lookup\n",
        "taxi_folder = core_folder + \"TaxiData\"\n"
      ],
      "execution_count": 0,
      "outputs": []
    },
    {
      "cell_type": "code",
      "metadata": {
        "id": "4_RdNOv8mgwk",
        "colab_type": "code",
        "outputId": "71fe5751-50a2-41e7-aa92-60ab1891f5c3",
        "colab": {
          "base_uri": "https://localhost:8080/",
          "height": 402
        }
      },
      "source": [
        "import numpy as np\n",
        "taxi_zones = core_folder + \"Maps/taxi_zones_utm.csv\"\n",
        "utm = pd.read_csv(taxi_zones)\n",
        "df_loc = utm[[\"LocationID\", \"X\", \"Y\"]]\n",
        "df_loc.head()\n",
        "myProj = Proj(\" +proj=lcc +lat_1=40.66666666666666 +lat_2=41.03333333333333 +lat_0=40.16666666666666 +lon_0=-74 +x_0=300000 +y_0=0 +datum=NAD83 +units=us-ft +no_defs\")\n",
        "x, y = np.array(df_loc[\"X\"]), np.array(df_loc[\"Y\"])\n",
        "x, y = myProj(x, y, inverse = True)\n",
        "x = x \n",
        "y = y\n",
        "df_loc[\"lat\"], df_loc[\"long\"] = y, x\n",
        "df_loc = df_loc.drop(columns = [\"X\", \"Y\"], axis = 1)\n",
        "df_loc = df_loc.drop(df_loc.index[[263, 264]])\n",
        "df_loc"
      ],
      "execution_count": 0,
      "outputs": [
        {
          "output_type": "execute_result",
          "data": {
            "text/html": [
              "<div>\n",
              "<style scoped>\n",
              "    .dataframe tbody tr th:only-of-type {\n",
              "        vertical-align: middle;\n",
              "    }\n",
              "\n",
              "    .dataframe tbody tr th {\n",
              "        vertical-align: top;\n",
              "    }\n",
              "\n",
              "    .dataframe thead th {\n",
              "        text-align: right;\n",
              "    }\n",
              "</style>\n",
              "<table border=\"1\" class=\"dataframe\">\n",
              "  <thead>\n",
              "    <tr style=\"text-align: right;\">\n",
              "      <th></th>\n",
              "      <th>LocationID</th>\n",
              "      <th>lat</th>\n",
              "      <th>long</th>\n",
              "    </tr>\n",
              "  </thead>\n",
              "  <tbody>\n",
              "    <tr>\n",
              "      <th>0</th>\n",
              "      <td>1</td>\n",
              "      <td>40.689516</td>\n",
              "      <td>-74.176786</td>\n",
              "    </tr>\n",
              "    <tr>\n",
              "      <th>1</th>\n",
              "      <td>2</td>\n",
              "      <td>40.625724</td>\n",
              "      <td>-73.826126</td>\n",
              "    </tr>\n",
              "    <tr>\n",
              "      <th>2</th>\n",
              "      <td>3</td>\n",
              "      <td>40.865888</td>\n",
              "      <td>-73.849479</td>\n",
              "    </tr>\n",
              "    <tr>\n",
              "      <th>3</th>\n",
              "      <td>4</td>\n",
              "      <td>40.724152</td>\n",
              "      <td>-73.977023</td>\n",
              "    </tr>\n",
              "    <tr>\n",
              "      <th>4</th>\n",
              "      <td>5</td>\n",
              "      <td>40.550340</td>\n",
              "      <td>-74.189930</td>\n",
              "    </tr>\n",
              "    <tr>\n",
              "      <th>...</th>\n",
              "      <td>...</td>\n",
              "      <td>...</td>\n",
              "      <td>...</td>\n",
              "    </tr>\n",
              "    <tr>\n",
              "      <th>258</th>\n",
              "      <td>259</td>\n",
              "      <td>40.899103</td>\n",
              "      <td>-73.856351</td>\n",
              "    </tr>\n",
              "    <tr>\n",
              "      <th>259</th>\n",
              "      <td>260</td>\n",
              "      <td>40.746798</td>\n",
              "      <td>-73.903713</td>\n",
              "    </tr>\n",
              "    <tr>\n",
              "      <th>260</th>\n",
              "      <td>261</td>\n",
              "      <td>40.708976</td>\n",
              "      <td>-74.012919</td>\n",
              "    </tr>\n",
              "    <tr>\n",
              "      <th>261</th>\n",
              "      <td>262</td>\n",
              "      <td>40.776534</td>\n",
              "      <td>-73.945830</td>\n",
              "    </tr>\n",
              "    <tr>\n",
              "      <th>262</th>\n",
              "      <td>263</td>\n",
              "      <td>40.778496</td>\n",
              "      <td>-73.951208</td>\n",
              "    </tr>\n",
              "  </tbody>\n",
              "</table>\n",
              "<p>263 rows × 3 columns</p>\n",
              "</div>"
            ],
            "text/plain": [
              "     LocationID        lat       long\n",
              "0             1  40.689516 -74.176786\n",
              "1             2  40.625724 -73.826126\n",
              "2             3  40.865888 -73.849479\n",
              "3             4  40.724152 -73.977023\n",
              "4             5  40.550340 -74.189930\n",
              "..          ...        ...        ...\n",
              "258         259  40.899103 -73.856351\n",
              "259         260  40.746798 -73.903713\n",
              "260         261  40.708976 -74.012919\n",
              "261         262  40.776534 -73.945830\n",
              "262         263  40.778496 -73.951208\n",
              "\n",
              "[263 rows x 3 columns]"
            ]
          },
          "metadata": {
            "tags": []
          },
          "execution_count": 28
        }
      ]
    },
    {
      "cell_type": "code",
      "metadata": {
        "id": "tgLxI042w_Tq",
        "colab_type": "code",
        "colab": {}
      },
      "source": [
        "from sklearn.metrics import mean_squared_log_error, mean_squared_error, r2_score\n",
        "def errors(y_val, y_pred):\n",
        "    mse = mean_squared_error(y_val, y_pred)\n",
        "    msle = mean_squared_log_error(y_val, y_pred)\n",
        "\n",
        "    print('Mean squared error: %.5f'\n",
        "       % mse)\n",
        "    \n",
        "    print(\"Mean squared log error: %.5f\" % msle)\n",
        "\n",
        "    print('Root Mean squared error: %.5f'\n",
        "       % np.sqrt(mse))\n",
        "    \n",
        "    print('Root Mean Squared Log Error: %.5f' % np.sqrt(msle))\n",
        "\n",
        "    \n",
        "    print('Coefficient of determination: %.5f'\n",
        "       % r2_score(y_val, y_pred))\n",
        "    "
      ],
      "execution_count": 0,
      "outputs": []
    },
    {
      "cell_type": "code",
      "metadata": {
        "id": "NYJcwU27Lp7w",
        "colab_type": "code",
        "colab": {}
      },
      "source": [
        "import random\n",
        "from datetime import timedelta\n",
        "import datetime as dt\n",
        "import matplotlib.pyplot as plt\n",
        "import seaborn as sns\n",
        "from sklearn.model_selection import train_test_split\n",
        "from sklearn.metrics import accuracy_score\n",
        "import matplotlib.pyplot as plt\n",
        "import numpy as np\n",
        "from sklearn import datasets, linear_model, neural_network\n",
        "import warnings\n",
        "warnings.filterwarnings('ignore')\n",
        "plt.rcParams['figure.figsize'] = [15, 10]\n",
        "\n",
        "def haversine_array(lat1, lng1, lat2, lng2):\n",
        "    lat1, lng1, lat2, lng2 = map(np.radians, (lat1, lng1, lat2, lng2))\n",
        "    AVG_EARTH_RADIUS = 6371  # in km\n",
        "    lat = lat2 - lat1\n",
        "    lng = lng2 - lng1\n",
        "    d = np.sin(lat * 0.5) ** 2 + np.cos(lat1) * np.cos(lat2) * np.sin(lng * 0.5) ** 2\n",
        "    h = 2 * AVG_EARTH_RADIUS * np.arcsin(np.sqrt(d))\n",
        "    return h\n",
        "\n",
        "def random_longitude():\n",
        "    return np.random.uniform(40.6, 40.9)\n",
        "\n",
        "def random_latitude():\n",
        "    return np.random.uniform(74.7, 74.1)\n",
        "\n",
        "np.random.seed(1000)\n",
        "\n",
        "def sample(x):\n",
        "    global core_folder\n",
        "    return (list(map(lambda y: core_folder+'TaxiData/assignment1_data-' + str(y) + '.csv', random.sample(range(1,674),x))))\n",
        "\n",
        "def head():\n",
        "    global core_folder\n",
        "    return (list(map(lambda y: core_folder+'TaxiData/assignment1_data-' + str(y) + '.csv', np.arange(1,24))))\n"
      ],
      "execution_count": 0,
      "outputs": []
    },
    {
      "cell_type": "code",
      "metadata": {
        "id": "0cm1G1x6RV0k",
        "colab_type": "code",
        "colab": {}
      },
      "source": [
        "def trainer():\n",
        "    train = pd.concat([pd.read_csv(f) for f in head()], ignore_index = True)\n",
        "    print(train.columns)\n",
        "    print('{} rows'.format(train.shape[0]))\n",
        "\n",
        "    # rename datetime features so they look better and find duration\n",
        "    train['pickup_datetime'] = pd.to_datetime(train.tpep_pickup_datetime)\n",
        "    train['dropoff_datetime'] = pd.to_datetime(train.tpep_dropoff_datetime)\n",
        "    del train['tpep_pickup_datetime']\n",
        "    del train['tpep_dropoff_datetime']\n",
        "    train['duration'] = (train['dropoff_datetime'] - train['pickup_datetime']).map(lambda x : x.total_seconds())\n",
        "    train['PULocationID'] = train[train['PULocationID'] != 264]\n",
        "    train['PULocationID'] = train[train['PULocationID'] != 265]\n",
        "    train['DOLocationID'] = train[train[\"DOLocationID\"] != 264]\n",
        "    train['DOLocationID'] = train[train[\"DOLocationID\"] != 265]\n",
        "\n",
        "    # replace with actual data\n",
        "    train['pickup_latitude'] = train['PULocationID'].map(lambda x : set_latitude(x))\n",
        "    train['pickup_longitude'] = train['PULocationID'].map(lambda x : set_longitude(x))\n",
        "\n",
        "    train['dropoff_latitude'] = train['DOLocationID'].map(lambda x : set_latitude(x))\n",
        "    train['dropoff_longitude'] = train['DOLocationID'].map(lambda x : set_longitude(x))\n",
        "\n",
        "    del train['PULocationID']\n",
        "    del train['DOLocationID']\n",
        "\n",
        "    train['distance_haversine'] = haversine_array(train['pickup_latitude'], train['pickup_longitude'], train['dropoff_latitude'], train['dropoff_longitude'])\n",
        "\n",
        "    # Speed\n",
        "    #train['avg_speed'] =  train['distance_haversine'] / train['duration'].map(lambda x : 0 if x > 10 ** 5 else 3600 * x)\n",
        "    train = train[~train.isin([np.nan, np.inf, -np.inf]).any(1)]\n",
        "    return train\n",
        "    "
      ],
      "execution_count": 0,
      "outputs": []
    },
    {
      "cell_type": "code",
      "metadata": {
        "id": "vhf2rJAw46M3",
        "colab_type": "code",
        "colab": {}
      },
      "source": [
        "def constant_estimator(data):\n",
        "  train, test = train_test_split(data, test_size = 0.2)\n",
        "  m = train[\"duration\"].mean()\n",
        "\n",
        "  error = test[\"duration\"] - m\n",
        "\n",
        "  error = error**2\n",
        "  rmse = np.sqrt(error.sum())\n",
        "\n",
        "  log_error = np.log(test[\"duration\"] + 1)\n",
        "\n",
        "  log_error = -log_error\n",
        "  log_error = log_error + np.log(m + 1)\n",
        "  rmsle = np.sqrt(log_error.sum())\n",
        "\n",
        "  return (rmse, rmsle)"
      ],
      "execution_count": 0,
      "outputs": []
    },
    {
      "cell_type": "code",
      "metadata": {
        "id": "1ZmQ9ijsYcAu",
        "colab_type": "code",
        "outputId": "df2f140b-9ba2-420e-cb6c-c6cc7bda9d0e",
        "colab": {
          "base_uri": "https://localhost:8080/",
          "height": 101
        }
      },
      "source": [
        "train = trainer()\n",
        "constant_estimator(train)"
      ],
      "execution_count": 0,
      "outputs": [
        {
          "output_type": "stream",
          "text": [
            "Index(['VendorID', 'tpep_pickup_datetime', 'tpep_dropoff_datetime',\n",
            "       'passenger_count', 'PULocationID', 'DOLocationID', 'payment_type'],\n",
            "      dtype='object')\n",
            "2299977 rows\n"
          ],
          "name": "stdout"
        },
        {
          "output_type": "execute_result",
          "data": {
            "text/plain": [
              "(2221183.2105386266, 433.79384662678075)"
            ]
          },
          "metadata": {
            "tags": []
          },
          "execution_count": 36
        }
      ]
    },
    {
      "cell_type": "code",
      "metadata": {
        "id": "p195MYrAeaYd",
        "colab_type": "code",
        "outputId": "06d49acb-d22b-438f-871d-a89fc8e2b340",
        "colab": {
          "base_uri": "https://localhost:8080/",
          "height": 187
        }
      },
      "source": [
        "#simple linear regression\n",
        "def simpleRegress(train):\n",
        "    y = train['duration'].values\n",
        "    # XGB decision tree\n",
        "    features = 'distance_haversine'\n",
        "    print(train[features].shape)\n",
        "    X_train, X_val, y_train, y_val = train_test_split(train[features].values, y, test_size=.2, random_state=1000)\n",
        "    regr = linear_model.LinearRegression()\n",
        "\n",
        "\n",
        "    # Train the model using the training sets\n",
        "    regr.fit(X_train.reshape(-1,1), y_train)\n",
        "    #network.fit(X_train, y_train)\n",
        "\n",
        "    # Make predictions using the testing set\n",
        "    y_pred_reg = regr.predict(X_val.reshape(-1,1))\n",
        "    #y_pred_net = network.predict(X_val)\n",
        "\n",
        "    \n",
        "    # The coefficient of determination: 1 is perfect prediction\n",
        "    errors(y_val, y_pred_reg)\n",
        "    \n",
        "    # The coefficient of determination: 1 is perfect prediction\n",
        "    #print('Coefficient of determination: %.5f'\n",
        "    #   % r2_score(y_val, y_pred_net))\n",
        "  "
      ],
      "execution_count": 0,
      "outputs": [
        {
          "output_type": "stream",
          "text": [
            "Index(['VendorID', 'tpep_pickup_datetime', 'tpep_dropoff_datetime',\n",
            "       'passenger_count', 'PULocationID', 'DOLocationID', 'payment_type'],\n",
            "      dtype='object')\n",
            "2299977 rows\n",
            "(2299977,)\n",
            "Mean squared error: 10725429.90543\n",
            "Mean squared log error: 0.85658\n",
            "Root Mean squared error: 3274.97021\n",
            "Root Mean Squared Log Error: 0.92551\n",
            "Coefficient of determination: -0.00000\n"
          ],
          "name": "stdout"
        }
      ]
    },
    {
      "cell_type": "code",
      "metadata": {
        "id": "9oPXfmdzQ0bq",
        "colab_type": "code",
        "colab": {}
      },
      "source": [
        "simpleRegress(train)"
      ],
      "execution_count": 0,
      "outputs": []
    },
    {
      "cell_type": "code",
      "metadata": {
        "id": "VWLc0rPv7loh",
        "colab_type": "code",
        "colab": {}
      },
      "source": [
        "#multivariate linear regression\n",
        "def multiRegress(train):\n",
        "    y = train['duration'].values\n",
        "    # XGB decision tree\n",
        "    features = [f for f in train.columns if f not in ['pickup_datetime', 'dropoff_datetime', 'duration']]\n",
        "    X_train, X_val, y_train, y_val = train_test_split(train[features].values, y, test_size=.2, random_state=1000)\n",
        "    regr = linear_model.LinearRegression()\n",
        "    network = neural_network.MLPRegressor()\n",
        "\n",
        "\n",
        "    # Train the model using the training sets\n",
        "    regr.fit(X_train, y_train)\n",
        "    #network.fit(X_train, y_train)\n",
        "\n",
        "    # Make predictions using the testing set\n",
        "    y_pred_reg = regr.predict(X_val)\n",
        "    #y_pred_net = network.predict(X_val)\n",
        "\n",
        "    \n",
        "    errors(y_val, y_pred_reg)\n",
        "\n"
      ],
      "execution_count": 0,
      "outputs": []
    },
    {
      "cell_type": "code",
      "metadata": {
        "id": "NK_xHIh5Q4cw",
        "colab_type": "code",
        "outputId": "76ed1e82-2027-4bad-b56f-61038788d51c",
        "colab": {
          "base_uri": "https://localhost:8080/",
          "height": 101
        }
      },
      "source": [
        "multiRegress(train)"
      ],
      "execution_count": 0,
      "outputs": [
        {
          "output_type": "stream",
          "text": [
            "Mean squared error: 10711113.04904\n",
            "Mean squared log error: 0.85890\n",
            "Root Mean squared error: 3272.78369\n",
            "Root Mean Squared Log Error: 0.92677\n",
            "Coefficient of determination: 0.00133\n"
          ],
          "name": "stdout"
        }
      ]
    },
    {
      "cell_type": "code",
      "metadata": {
        "id": "QKgZv6guSnNd",
        "colab_type": "code",
        "colab": {}
      },
      "source": [
        "#simple linear regression\n",
        "def neuralnet(train):\n",
        "    y = train['duration'].values\n",
        "    # XGB decision tree\n",
        "    features = [f for f in train.columns if f not in ['pickup_datetime', 'dropoff_datetime', 'duration']]\n",
        "    print(train[features].shape)\n",
        "    X_train, X_val, y_train, y_val = train_test_split(train[features].values, y, test_size=.2, random_state=1000)\n",
        "    network = neural_network.MLPRegressor(hidden_layer_sizes=(10, 9, 8, 7, 6 ))\n",
        "\n",
        "\n",
        "    network.fit(X_train, y_train)\n",
        "\n",
        "    y_pred_net = network.predict(X_val)\n",
        "\n",
        "    \n",
        "    # The coefficient of determination: 1 is perfect prediction\n",
        "    errors(y_val, y_pred_reg)\n",
        "    \n"
      ],
      "execution_count": 0,
      "outputs": []
    },
    {
      "cell_type": "code",
      "metadata": {
        "id": "AY6M17PaTnzJ",
        "colab_type": "code",
        "outputId": "aad10483-c277-467d-bef9-c2b718c33708",
        "colab": {
          "base_uri": "https://localhost:8080/",
          "height": 279
        }
      },
      "source": [
        "neuralnet(train)"
      ],
      "execution_count": 0,
      "outputs": [
        {
          "output_type": "stream",
          "text": [
            "(2299977, 8)\n"
          ],
          "name": "stdout"
        },
        {
          "output_type": "error",
          "ename": "NameError",
          "evalue": "ignored",
          "traceback": [
            "\u001b[0;31m---------------------------------------------------------------------------\u001b[0m",
            "\u001b[0;31mNameError\u001b[0m                                 Traceback (most recent call last)",
            "\u001b[0;32m<ipython-input-48-38f0e5e09346>\u001b[0m in \u001b[0;36m<module>\u001b[0;34m()\u001b[0m\n\u001b[0;32m----> 1\u001b[0;31m \u001b[0mneuralnet\u001b[0m\u001b[0;34m(\u001b[0m\u001b[0mtrain\u001b[0m\u001b[0;34m)\u001b[0m\u001b[0;34m\u001b[0m\u001b[0;34m\u001b[0m\u001b[0m\n\u001b[0m",
            "\u001b[0;32m<ipython-input-47-c5f9334a4068>\u001b[0m in \u001b[0;36mneuralnet\u001b[0;34m(train)\u001b[0m\n\u001b[1;32m     14\u001b[0m \u001b[0;34m\u001b[0m\u001b[0m\n\u001b[1;32m     15\u001b[0m     \u001b[0;31m# The coefficient of determination: 1 is perfect prediction\u001b[0m\u001b[0;34m\u001b[0m\u001b[0;34m\u001b[0m\u001b[0;34m\u001b[0m\u001b[0m\n\u001b[0;32m---> 16\u001b[0;31m     \u001b[0merrors\u001b[0m\u001b[0;34m(\u001b[0m\u001b[0my_val\u001b[0m\u001b[0;34m,\u001b[0m \u001b[0my_pred_reg\u001b[0m\u001b[0;34m)\u001b[0m\u001b[0;34m\u001b[0m\u001b[0;34m\u001b[0m\u001b[0m\n\u001b[0m\u001b[1;32m     17\u001b[0m \u001b[0;34m\u001b[0m\u001b[0m\n",
            "\u001b[0;31mNameError\u001b[0m: name 'y_pred_reg' is not defined"
          ]
        }
      ]
    },
    {
      "cell_type": "code",
      "metadata": {
        "id": "A08TYLmDxCD9",
        "colab_type": "code",
        "outputId": "56df25c1-06b9-46e5-d6f0-64ef88add4a8",
        "colab": {
          "base_uri": "https://localhost:8080/",
          "height": 363
        }
      },
      "source": [
        "# This is the main model for XGBoost. To run it, call tree() with corresponding parameters\n",
        "import numpy as np\n",
        "import random\n",
        "import pandas as pd\n",
        "from datetime import timedelta\n",
        "import datetime as dt\n",
        "import matplotlib.pyplot as plt\n",
        "import seaborn as sns\n",
        "from sklearn.model_selection import train_test_split\n",
        "from sklearn.decomposition import PCA\n",
        "from sklearn.cluster import MiniBatchKMeans\n",
        "from sklearn.metrics import accuracy_score, mean_squared_error\n",
        "import xgboost as xgb\n",
        "import os\n",
        "from pyproj import Proj\n",
        "import warnings\n",
        "warnings.filterwarnings('ignore')\n",
        "plt.rcParams['figure.figsize'] = [15, 10]\n",
        "\n",
        "np.random.seed(1000)\n",
        "\n",
        "# Draws the XGBoost Tree\n",
        "def plot_tree(xgb_model, filename, rankdir='UT'):\n",
        "    gvz = xgb.to_graphviz(xgb_model, num_trees=2, rankdir=rankdir)\n",
        "    _, file_extension = os.path.splitext(filename)\n",
        "    format = file_extension.strip('.').lower()\n",
        "    data = gvz.pipe(format=format)\n",
        "    full_filename = filename\n",
        "    with open(full_filename, 'wb') as f:\n",
        "        f.write(data)\n",
        "\n",
        "# Elbow method\n",
        "def elbow(coords, sample_ind):\n",
        "    Sum_of_squared_distances = []\n",
        "    K = range(1,25)\n",
        "    for k in K:\n",
        "        kmeans = MiniBatchKMeans(n_clusters=k, batch_size=10000).fit(coords[sample_ind])\n",
        "        Sum_of_squared_distances.append(kmeans.inertia_)\n",
        "\n",
        "    plt.plot(K, Sum_of_squared_distances, 'bx-')\n",
        "    plt.xlabel('number of clusters')\n",
        "    plt.ylabel('SSE Distances')\n",
        "    plt.title('Computing optimal number of clusters')\n",
        "    plt.savefig('Choose_cluster.png')\n",
        "    fig.clear()\n",
        "\n",
        "print(df_loc)\n",
        "\n",
        "def set_latitude(x):\n",
        "    if x == 264 or x == 265:\n",
        "        raise SystemExit(0)\n",
        "    return df_loc['lat'][x-1]\n",
        "\n",
        "def set_longitude(x):\n",
        "    if x == 264 or x == 265:\n",
        "        raise SystemExit(0)\n",
        "    return -df_loc['long'][x-1]\n",
        "\n",
        "# Use this to plot graphs from output txt\n",
        "def txt_to_array(src):\n",
        "    f = open('file_name.ext', 'r')\n",
        "    x = f.read().split()\n",
        "    f.close()\n",
        "    vals = []\n",
        "    for xx in x:\n",
        "        vals.append(float(xx))\n",
        "    return vals\n",
        "\n",
        "# longitude and latitude range of nyc (for plotting)\n",
        "nyc_long = (40.6, 40.9)\n",
        "nyc_lat = (73.7, 74.1)\n",
        "\n",
        "# main model, the parameters are XGBoost parameters\n",
        "# sample is the number of samples\n",
        "def tree(name, max_depth, rounds, min_child_weight, eta, subsample, samples):\n",
        "    # remove useless stuff\n",
        "    train = pd.concat([pd.read_csv(f) for f in sample(samples)])\n",
        "    train['PULocationID'].replace(264, np.nan, inplace=True)\n",
        "    train['PULocationID'].replace(265, np.nan, inplace=True)\n",
        "    train['DOLocationID'].replace(264, np.nan, inplace=True)\n",
        "    train['DOLocationID'].replace(265, np.nan, inplace=True)\n",
        "    train.replace('', np.nan, inplace=True)\n",
        "    train.dropna(subset=['PULocationID'], inplace=True)\n",
        "    train.dropna(subset=['DOLocationID'], inplace=True)\n",
        "    train.dropna(inplace=True)\n",
        "\n",
        "    print('{} rows'.format(train.shape[0]))\n",
        "\n",
        "    # rename datetime features so they look better and find duration\n",
        "    train['pickup_datetime'] = pd.to_datetime(train.tpep_pickup_datetime)\n",
        "    train['dropoff_datetime'] = pd.to_datetime(train.tpep_dropoff_datetime)\n",
        "    del train['tpep_pickup_datetime']\n",
        "    del train['tpep_dropoff_datetime']\n",
        "    train['duration'] = (train['dropoff_datetime'] - train['pickup_datetime']).map(lambda x : x.total_seconds())\n",
        "    train['log_duration'] = train['duration'].map(lambda x : np.log(x))\n",
        "\n",
        "\n",
        "    # replace with actual data\n",
        "    train['pickup_latitude'] = train['PULocationID'].map(lambda x : set_latitude(x))\n",
        "    train['pickup_longitude'] = train['PULocationID'].map(lambda x : set_longitude(x))\n",
        "\n",
        "    train['dropoff_latitude'] = train['DOLocationID'].map(lambda x : set_latitude(x))\n",
        "    train['dropoff_longitude'] = train['DOLocationID'].map(lambda x : set_longitude(x))\n",
        "\n",
        "    del train['PULocationID']\n",
        "    del train['DOLocationID']\n",
        "\n",
        "    '''\n",
        "    fig, ax = plt.subplots(ncols=2, figsize=(10,5))\n",
        "    ax[0].scatter(train['pickup_latitude'].values, train['pickup_longitude'].values,\n",
        "                color='red', s=1, alpha=0.1)\n",
        "    ax[1].scatter(train['dropoff_latitude'].values, train['dropoff_longitude'].values,\n",
        "                color='blue', s=1, alpha=0.1)\n",
        "    fig.suptitle('Coordinates')\n",
        "    ax[0].set_ylabel('longitude')\n",
        "    ax[0].set_xlabel('latitude')\n",
        "    ax[1].set_ylabel('longitude')\n",
        "    ax[1].set_xlabel('latitude')\n",
        "    ax[0].set_xlim(nyc_lat)\n",
        "    ax[0].set_ylim(nyc_long)\n",
        "    ax[1].set_xlim(nyc_lat)\n",
        "    ax[1].set_ylim(nyc_long)\n",
        "    plt.savefig('Coord.png')\n",
        "    fig.clear()'''\n",
        "\n",
        "    train['distance_haversine'] = haversine_array(train['pickup_latitude'], train['pickup_longitude'], train['dropoff_latitude'], train['dropoff_longitude'])\n",
        "    train['log_distance'] = train['distance_haversine'].map(lambda x : np.log(x + 1))\n",
        "\n",
        "    # PCA\n",
        "    xys = np.vstack((train[['pickup_latitude', 'pickup_longitude']].values,\n",
        "                     train[['dropoff_latitude', 'dropoff_longitude']].values))\n",
        "    pca = PCA().fit(xys)\n",
        "    train['pickup_pca0'] = pca.transform(train[['pickup_latitude', 'pickup_longitude']])[:, 0]\n",
        "    train['pickup_pca1'] = pca.transform(train[['pickup_latitude', 'pickup_longitude']])[:, 1]\n",
        "    train['dropoff_pca0'] = pca.transform(train[['dropoff_latitude', 'dropoff_longitude']])[:, 0]\n",
        "    train['dropoff_pca1'] = pca.transform(train[['dropoff_latitude', 'dropoff_longitude']])[:, 1]\n",
        "\n",
        "    '''\n",
        "    fig, ax = plt.subplots(ncols=2, figsize=(10,5))\n",
        "    ax[0].scatter(train['pickup_pca0'].values, train['pickup_pca1'].values,\n",
        "                color='red', s=1, alpha=0.1)\n",
        "    ax[1].scatter(train['dropoff_pca0'].values, train['dropoff_pca1'].values,\n",
        "                color='blue', s=1, alpha=0.1)\n",
        "    fig.suptitle('PCA transformed coordinates of Pickup vs Dropoff')\n",
        "    ax[0].set_ylabel('pca1')\n",
        "    ax[0].set_xlabel('pca0')\n",
        "    ax[1].set_ylabel('pca1')\n",
        "    ax[1].set_xlabel('pca0')\n",
        "    pca_borders = pca.transform([[x, y] for x in nyc_lat for y in nyc_long])\n",
        "    ax[0].set_xlim(pca_borders[:, 0].min(), pca_borders[:, 0].max())\n",
        "    ax[0].set_ylim(pca_borders[:, 1].min(), pca_borders[:, 1].max())\n",
        "    ax[1].set_xlim(pca_borders[:, 0].min(), pca_borders[:, 0].max())\n",
        "    ax[1].set_ylim(pca_borders[:, 1].min(), pca_borders[:, 1].max())\n",
        "    plt.savefig('PCA.png')\n",
        "    fig.clear()'''\n",
        "\n",
        "    # Datetime\n",
        "    train['pickup_date'] = train['pickup_datetime'].dt.date\n",
        "    train['pickup_weekday'] = train['pickup_datetime'].dt.weekday\n",
        "    train['pickup_hour_week_year'] = train['pickup_datetime'].dt.weekofyear\n",
        "    train['pickup_hour'] = train['pickup_datetime'].dt.hour\n",
        "    train['pickup_minute'] = train['pickup_datetime'].dt.minute\n",
        "\n",
        "    # Speed\n",
        "    train['avg_speed'] = train['distance_haversine'] / train['duration']\n",
        "\n",
        "    '''\n",
        "    fig, ax = plt.subplots(ncols=3, figsize=(15,5))\n",
        "    ax[0].plot(train['pickup_hour'], train['avg_speed'], 'bo', lw=2, alpha=0.7)\n",
        "    ax[1].plot(train['pickup_weekday'], train['avg_speed'], 'go', lw=2, alpha=0.7)\n",
        "    ax[2].plot(train['pickup_week_hour'], train['avg_speed'], 'ro', lw=2, alpha=0.7)\n",
        "    ax[0].set_xlabel('hour')\n",
        "    ax[1].set_xlabel('weekday')\n",
        "    ax[2].set_xlabel('weekhour')\n",
        "    ax[0].set_ylabel('speed')\n",
        "    fig.suptitle('Speed')\n",
        "    plt.savefig('Speed.png')\n",
        "    fig.clear()'''\n",
        "\n",
        "    # Clustering\n",
        "    kmeans = MiniBatchKMeans(n_clusters=8, batch_size=10000).fit(xys)\n",
        "    train['pickup_cluster'] = kmeans.predict(train[['pickup_latitude', 'pickup_longitude']])\n",
        "    train['dropoff_cluster'] = kmeans.predict(train[['dropoff_latitude', 'dropoff_longitude']])\n",
        "\n",
        "    # elbow(coords, sample_ind)\n",
        "    '''\n",
        "    fig, ax = plt.subplots(ncols=2, figsize=(10,5))\n",
        "    ax[0].scatter(train.pickup_longitude.values, train.pickup_latitude.values, s=10, lw=0,\n",
        "            c=train.pickup_cluster.values, cmap='viridis')\n",
        "    ax[0].set_xlim(nyc_long)\n",
        "    ax[0].set_ylim(nyc_lat)\n",
        "    ax[0].set_xlabel('longitude')\n",
        "    ax[0].set_ylabel('latitude')\n",
        "    ax[1].scatter(train.dropoff_longitude.values, train.dropoff_latitude.values, s=10, lw=0,\n",
        "            c=train.dropoff_cluster.values)\n",
        "    ax[1].set_xlim(nyc_long)\n",
        "    ax[1].set_ylim(nyc_lat)\n",
        "    ax[1].set_xlabel('longitude')\n",
        "    ax[1].set_ylabel('latitude')\n",
        "    fig.suptitle('Kmeans Pickup vs Dropoff')\n",
        "    plt.savefig('Clustering.png')\n",
        "    fig.clear()'''\n",
        "\n",
        "    # datetime features are just strings, while duration is what we want to predict\n",
        "    features = [f for f in train.columns if f not in ['pickup_datetime', 'dropoff_datetime', 'pickup_date', 'duration', 'log_duration']]\n",
        "    print('We have %i features.' % len(features))\n",
        "    y = train['duration'].values\n",
        "\n",
        "    # XGB decision tree\n",
        "    X_train, X_val, y_train, y_val = train_test_split(train[features].values, y, test_size=.2, random_state=1000)\n",
        "    dtrain = xgb.DMatrix(X_train, label=y_train, feature_names=features)\n",
        "    dval = xgb.DMatrix(X_val, label=y_val, feature_names=features)\n",
        "    watchlist = [(dtrain, 'train'), (dval, 'val')]\n",
        "\n",
        "    progress = dict()\n",
        "    xgb_pars = {'max_depth': max_depth, 'eta': eta, 'subsample': subsample, 'min_child_weight': min_child_weight,\n",
        "                'colsample_bytree': 0.5, 'lambda': 1., 'booster' : 'gbtree', 'silent': 1, 'eval_metric': 'rmse', 'objective': 'reg:linear'}\n",
        "\n",
        "    model = xgb.train(xgb_pars, dtrain, int(rounds), watchlist, early_stopping_rounds=50, maximize=False, verbose_eval=10, evals_result=progress)\n",
        "    \n",
        "    '''\n",
        "    fig, ax = plt.subplots(ncols=2, figsize=(10,5))\n",
        "    ax[0].plot(np.arange(len(progress['train']['rmse'])), np.array(progress['train']['rmse']))\n",
        "    ax[0].set_xlabel('Epoch')\n",
        "    ax[0].set_ylabel('RMSE')\n",
        "    ax[1].plot(np.arange(len(progress['val']['rmse'])), np.array(progress['val']['rmse']))\n",
        "    ax[1].set_xlabel('Epoch')\n",
        "    ax[1].set_ylabel('RMSE')\n",
        "    fig.suptitle('Train vs Validation RMSE')\n",
        "    plt.savefig('error.png')'''\n",
        "    \n",
        "    # save rmses to txt\n",
        "    np.savetxt(name + str(max_depth) + str(rounds) + str(eta) + str(subsample) + \"_train.txt\", progress['train']['rmse'])\n",
        "    np.savetxt(name + str(max_depth) + str(rounds) + str(eta) + str(subsample) + \"_val.txt\", progress['val']['rmse'])\n",
        "\n",
        "    print('Final rmse %f' % model.best_score)\n",
        "\n",
        "    return model.best_score"
      ],
      "execution_count": 0,
      "outputs": [
        {
          "output_type": "error",
          "ename": "ModuleNotFoundError",
          "evalue": "ignored",
          "traceback": [
            "\u001b[0;31m---------------------------------------------------------------------------\u001b[0m",
            "\u001b[0;31mModuleNotFoundError\u001b[0m                       Traceback (most recent call last)",
            "\u001b[0;32m<ipython-input-16-089ba4d005bb>\u001b[0m in \u001b[0;36m<module>\u001b[0;34m()\u001b[0m\n\u001b[1;32m     12\u001b[0m \u001b[0;32mimport\u001b[0m \u001b[0mxgboost\u001b[0m \u001b[0;32mas\u001b[0m \u001b[0mxgb\u001b[0m\u001b[0;34m\u001b[0m\u001b[0;34m\u001b[0m\u001b[0m\n\u001b[1;32m     13\u001b[0m \u001b[0;32mimport\u001b[0m \u001b[0mos\u001b[0m\u001b[0;34m\u001b[0m\u001b[0;34m\u001b[0m\u001b[0m\n\u001b[0;32m---> 14\u001b[0;31m \u001b[0;32mfrom\u001b[0m \u001b[0mpyproj\u001b[0m \u001b[0;32mimport\u001b[0m \u001b[0mProj\u001b[0m\u001b[0;34m\u001b[0m\u001b[0;34m\u001b[0m\u001b[0m\n\u001b[0m\u001b[1;32m     15\u001b[0m \u001b[0;32mimport\u001b[0m \u001b[0mwarnings\u001b[0m\u001b[0;34m\u001b[0m\u001b[0;34m\u001b[0m\u001b[0m\n\u001b[1;32m     16\u001b[0m \u001b[0mwarnings\u001b[0m\u001b[0;34m.\u001b[0m\u001b[0mfilterwarnings\u001b[0m\u001b[0;34m(\u001b[0m\u001b[0;34m'ignore'\u001b[0m\u001b[0;34m)\u001b[0m\u001b[0;34m\u001b[0m\u001b[0;34m\u001b[0m\u001b[0m\n",
            "\u001b[0;31mModuleNotFoundError\u001b[0m: No module named 'pyproj'",
            "",
            "\u001b[0;31m---------------------------------------------------------------------------\u001b[0;32m\nNOTE: If your import is failing due to a missing package, you can\nmanually install dependencies using either !pip or !apt.\n\nTo view examples of installing some common dependencies, click the\n\"Open Examples\" button below.\n\u001b[0;31m---------------------------------------------------------------------------\u001b[0m\n"
          ]
        }
      ]
    },
    {
      "cell_type": "code",
      "metadata": {
        "id": "EgitKgr00y1W",
        "colab_type": "code",
        "outputId": "0e8bc699-c98b-44c0-adac-70268cf52caf",
        "colab": {
          "base_uri": "https://localhost:8080/",
          "height": 340
        }
      },
      "source": [
        "max_depth = [7,8,9]\n",
        "min_child_weight = [30,40,50]\n",
        "eta = [0.1, 0.3, 0.5]\n",
        "subsample = [0.5,0.75]\n",
        "\n",
        "best_score = 100000\n",
        "best_combination = []\n",
        "for a in max_depth:\n",
        "  for b in min_child_weight:\n",
        "    for c in eta:\n",
        "      for d in subsample:\n",
        "        score = tree(\"search\",a,100,b,c,d,100)\n",
        "        if score < best_score:\n",
        "          best_score = score\n",
        "          best_combination = [a,b,c,d]\n",
        "\n",
        "print(best_combination)\n",
        "print(best_score)"
      ],
      "execution_count": 0,
      "outputs": [
        {
          "output_type": "stream",
          "text": [
            "2299977 rows\n"
          ],
          "name": "stdout"
        },
        {
          "output_type": "error",
          "ename": "ValueError",
          "evalue": "ignored",
          "traceback": [
            "\u001b[0;31m---------------------------------------------------------------------------\u001b[0m",
            "\u001b[0;31mValueError\u001b[0m                                Traceback (most recent call last)",
            "\u001b[0;32m<ipython-input-37-e65f04deb8b6>\u001b[0m in \u001b[0;36m<module>\u001b[0;34m()\u001b[0m\n\u001b[0;32m----> 1\u001b[0;31m \u001b[0mtree\u001b[0m\u001b[0;34m(\u001b[0m\u001b[0;34m\"okay\"\u001b[0m\u001b[0;34m)\u001b[0m\u001b[0;34m\u001b[0m\u001b[0;34m\u001b[0m\u001b[0m\n\u001b[0m",
            "\u001b[0;32m<ipython-input-36-089ba4d005bb>\u001b[0m in \u001b[0;36mtree\u001b[0;34m(name, max_depth, rounds, eta, subsample)\u001b[0m\n\u001b[1;32m    107\u001b[0m     \u001b[0;32mdel\u001b[0m \u001b[0mtrain\u001b[0m\u001b[0;34m[\u001b[0m\u001b[0;34m'tpep_dropoff_datetime'\u001b[0m\u001b[0;34m]\u001b[0m\u001b[0;34m\u001b[0m\u001b[0;34m\u001b[0m\u001b[0m\n\u001b[1;32m    108\u001b[0m     \u001b[0mtrain\u001b[0m\u001b[0;34m[\u001b[0m\u001b[0;34m'duration'\u001b[0m\u001b[0;34m]\u001b[0m \u001b[0;34m=\u001b[0m \u001b[0;34m(\u001b[0m\u001b[0mtrain\u001b[0m\u001b[0;34m[\u001b[0m\u001b[0;34m'dropoff_datetime'\u001b[0m\u001b[0;34m]\u001b[0m \u001b[0;34m-\u001b[0m \u001b[0mtrain\u001b[0m\u001b[0;34m[\u001b[0m\u001b[0;34m'pickup_datetime'\u001b[0m\u001b[0;34m]\u001b[0m\u001b[0;34m)\u001b[0m\u001b[0;34m.\u001b[0m\u001b[0mmap\u001b[0m\u001b[0;34m(\u001b[0m\u001b[0;32mlambda\u001b[0m \u001b[0mx\u001b[0m \u001b[0;34m:\u001b[0m \u001b[0mx\u001b[0m\u001b[0;34m.\u001b[0m\u001b[0mtotal_seconds\u001b[0m\u001b[0;34m(\u001b[0m\u001b[0;34m)\u001b[0m\u001b[0;34m)\u001b[0m\u001b[0;34m\u001b[0m\u001b[0;34m\u001b[0m\u001b[0m\n\u001b[0;32m--> 109\u001b[0;31m     \u001b[0mtrain\u001b[0m\u001b[0;34m[\u001b[0m\u001b[0;34m'PULocationID'\u001b[0m\u001b[0;34m]\u001b[0m \u001b[0;34m=\u001b[0m \u001b[0mtrain\u001b[0m\u001b[0;34m[\u001b[0m\u001b[0mtrain\u001b[0m\u001b[0;34m[\u001b[0m\u001b[0;34m'PULocationID'\u001b[0m\u001b[0;34m]\u001b[0m \u001b[0;34m!=\u001b[0m \u001b[0;36m264\u001b[0m\u001b[0;34m]\u001b[0m\u001b[0;34m\u001b[0m\u001b[0;34m\u001b[0m\u001b[0m\n\u001b[0m\u001b[1;32m    110\u001b[0m     \u001b[0mtrain\u001b[0m\u001b[0;34m[\u001b[0m\u001b[0;34m'PULocationID'\u001b[0m\u001b[0;34m]\u001b[0m \u001b[0;34m=\u001b[0m \u001b[0mtrain\u001b[0m\u001b[0;34m[\u001b[0m\u001b[0mtrain\u001b[0m\u001b[0;34m[\u001b[0m\u001b[0;34m'PULocationID'\u001b[0m\u001b[0;34m]\u001b[0m \u001b[0;34m!=\u001b[0m \u001b[0;36m265\u001b[0m\u001b[0;34m]\u001b[0m\u001b[0;34m\u001b[0m\u001b[0;34m\u001b[0m\u001b[0m\n\u001b[1;32m    111\u001b[0m     \u001b[0mtrain\u001b[0m\u001b[0;34m[\u001b[0m\u001b[0;34m'DOLocationID'\u001b[0m\u001b[0;34m]\u001b[0m \u001b[0;34m=\u001b[0m \u001b[0mtrain\u001b[0m\u001b[0;34m[\u001b[0m\u001b[0mtrain\u001b[0m\u001b[0;34m[\u001b[0m\u001b[0;34m\"DOLocationID\"\u001b[0m\u001b[0;34m]\u001b[0m \u001b[0;34m!=\u001b[0m \u001b[0;36m264\u001b[0m\u001b[0;34m]\u001b[0m\u001b[0;34m\u001b[0m\u001b[0;34m\u001b[0m\u001b[0m\n",
            "\u001b[0;32m/usr/local/lib/python3.6/dist-packages/pandas/core/frame.py\u001b[0m in \u001b[0;36m__setitem__\u001b[0;34m(self, key, value)\u001b[0m\n\u001b[1;32m   3485\u001b[0m         \u001b[0;32melse\u001b[0m\u001b[0;34m:\u001b[0m\u001b[0;34m\u001b[0m\u001b[0;34m\u001b[0m\u001b[0m\n\u001b[1;32m   3486\u001b[0m             \u001b[0;31m# set column\u001b[0m\u001b[0;34m\u001b[0m\u001b[0;34m\u001b[0m\u001b[0;34m\u001b[0m\u001b[0m\n\u001b[0;32m-> 3487\u001b[0;31m             \u001b[0mself\u001b[0m\u001b[0;34m.\u001b[0m\u001b[0m_set_item\u001b[0m\u001b[0;34m(\u001b[0m\u001b[0mkey\u001b[0m\u001b[0;34m,\u001b[0m \u001b[0mvalue\u001b[0m\u001b[0;34m)\u001b[0m\u001b[0;34m\u001b[0m\u001b[0;34m\u001b[0m\u001b[0m\n\u001b[0m\u001b[1;32m   3488\u001b[0m \u001b[0;34m\u001b[0m\u001b[0m\n\u001b[1;32m   3489\u001b[0m     \u001b[0;32mdef\u001b[0m \u001b[0m_setitem_slice\u001b[0m\u001b[0;34m(\u001b[0m\u001b[0mself\u001b[0m\u001b[0;34m,\u001b[0m \u001b[0mkey\u001b[0m\u001b[0;34m,\u001b[0m \u001b[0mvalue\u001b[0m\u001b[0;34m)\u001b[0m\u001b[0;34m:\u001b[0m\u001b[0;34m\u001b[0m\u001b[0;34m\u001b[0m\u001b[0m\n",
            "\u001b[0;32m/usr/local/lib/python3.6/dist-packages/pandas/core/frame.py\u001b[0m in \u001b[0;36m_set_item\u001b[0;34m(self, key, value)\u001b[0m\n\u001b[1;32m   3562\u001b[0m \u001b[0;34m\u001b[0m\u001b[0m\n\u001b[1;32m   3563\u001b[0m         \u001b[0mself\u001b[0m\u001b[0;34m.\u001b[0m\u001b[0m_ensure_valid_index\u001b[0m\u001b[0;34m(\u001b[0m\u001b[0mvalue\u001b[0m\u001b[0;34m)\u001b[0m\u001b[0;34m\u001b[0m\u001b[0;34m\u001b[0m\u001b[0m\n\u001b[0;32m-> 3564\u001b[0;31m         \u001b[0mvalue\u001b[0m \u001b[0;34m=\u001b[0m \u001b[0mself\u001b[0m\u001b[0;34m.\u001b[0m\u001b[0m_sanitize_column\u001b[0m\u001b[0;34m(\u001b[0m\u001b[0mkey\u001b[0m\u001b[0;34m,\u001b[0m \u001b[0mvalue\u001b[0m\u001b[0;34m)\u001b[0m\u001b[0;34m\u001b[0m\u001b[0;34m\u001b[0m\u001b[0m\n\u001b[0m\u001b[1;32m   3565\u001b[0m         \u001b[0mNDFrame\u001b[0m\u001b[0;34m.\u001b[0m\u001b[0m_set_item\u001b[0m\u001b[0;34m(\u001b[0m\u001b[0mself\u001b[0m\u001b[0;34m,\u001b[0m \u001b[0mkey\u001b[0m\u001b[0;34m,\u001b[0m \u001b[0mvalue\u001b[0m\u001b[0;34m)\u001b[0m\u001b[0;34m\u001b[0m\u001b[0;34m\u001b[0m\u001b[0m\n\u001b[1;32m   3566\u001b[0m \u001b[0;34m\u001b[0m\u001b[0m\n",
            "\u001b[0;32m/usr/local/lib/python3.6/dist-packages/pandas/core/frame.py\u001b[0m in \u001b[0;36m_sanitize_column\u001b[0;34m(self, key, value, broadcast)\u001b[0m\n\u001b[1;32m   3736\u001b[0m                         \u001b[0mvalue\u001b[0m \u001b[0;34m=\u001b[0m \u001b[0mvalue\u001b[0m\u001b[0;34m.\u001b[0m\u001b[0mreindex\u001b[0m\u001b[0;34m(\u001b[0m\u001b[0mcols\u001b[0m\u001b[0;34m,\u001b[0m \u001b[0maxis\u001b[0m\u001b[0;34m=\u001b[0m\u001b[0;36m1\u001b[0m\u001b[0;34m)\u001b[0m\u001b[0;34m\u001b[0m\u001b[0;34m\u001b[0m\u001b[0m\n\u001b[1;32m   3737\u001b[0m             \u001b[0;31m# now align rows\u001b[0m\u001b[0;34m\u001b[0m\u001b[0;34m\u001b[0m\u001b[0;34m\u001b[0m\u001b[0m\n\u001b[0;32m-> 3738\u001b[0;31m             \u001b[0mvalue\u001b[0m \u001b[0;34m=\u001b[0m \u001b[0mreindexer\u001b[0m\u001b[0;34m(\u001b[0m\u001b[0mvalue\u001b[0m\u001b[0;34m)\u001b[0m\u001b[0;34m.\u001b[0m\u001b[0mT\u001b[0m\u001b[0;34m\u001b[0m\u001b[0;34m\u001b[0m\u001b[0m\n\u001b[0m\u001b[1;32m   3739\u001b[0m \u001b[0;34m\u001b[0m\u001b[0m\n\u001b[1;32m   3740\u001b[0m         \u001b[0;32melif\u001b[0m \u001b[0misinstance\u001b[0m\u001b[0;34m(\u001b[0m\u001b[0mvalue\u001b[0m\u001b[0;34m,\u001b[0m \u001b[0mExtensionArray\u001b[0m\u001b[0;34m)\u001b[0m\u001b[0;34m:\u001b[0m\u001b[0;34m\u001b[0m\u001b[0;34m\u001b[0m\u001b[0m\n",
            "\u001b[0;32m/usr/local/lib/python3.6/dist-packages/pandas/core/frame.py\u001b[0m in \u001b[0;36mreindexer\u001b[0;34m(value)\u001b[0m\n\u001b[1;32m   3715\u001b[0m                     \u001b[0;31m# duplicate axis\u001b[0m\u001b[0;34m\u001b[0m\u001b[0;34m\u001b[0m\u001b[0;34m\u001b[0m\u001b[0m\n\u001b[1;32m   3716\u001b[0m                     \u001b[0;32mif\u001b[0m \u001b[0;32mnot\u001b[0m \u001b[0mvalue\u001b[0m\u001b[0;34m.\u001b[0m\u001b[0mindex\u001b[0m\u001b[0;34m.\u001b[0m\u001b[0mis_unique\u001b[0m\u001b[0;34m:\u001b[0m\u001b[0;34m\u001b[0m\u001b[0;34m\u001b[0m\u001b[0m\n\u001b[0;32m-> 3717\u001b[0;31m                         \u001b[0;32mraise\u001b[0m \u001b[0me\u001b[0m\u001b[0;34m\u001b[0m\u001b[0;34m\u001b[0m\u001b[0m\n\u001b[0m\u001b[1;32m   3718\u001b[0m \u001b[0;34m\u001b[0m\u001b[0m\n\u001b[1;32m   3719\u001b[0m                     \u001b[0;31m# other\u001b[0m\u001b[0;34m\u001b[0m\u001b[0;34m\u001b[0m\u001b[0;34m\u001b[0m\u001b[0m\n",
            "\u001b[0;32m/usr/local/lib/python3.6/dist-packages/pandas/core/frame.py\u001b[0m in \u001b[0;36mreindexer\u001b[0;34m(value)\u001b[0m\n\u001b[1;32m   3710\u001b[0m                 \u001b[0;31m# GH 4107\u001b[0m\u001b[0;34m\u001b[0m\u001b[0;34m\u001b[0m\u001b[0;34m\u001b[0m\u001b[0m\n\u001b[1;32m   3711\u001b[0m                 \u001b[0;32mtry\u001b[0m\u001b[0;34m:\u001b[0m\u001b[0;34m\u001b[0m\u001b[0;34m\u001b[0m\u001b[0m\n\u001b[0;32m-> 3712\u001b[0;31m                     \u001b[0mvalue\u001b[0m \u001b[0;34m=\u001b[0m \u001b[0mvalue\u001b[0m\u001b[0;34m.\u001b[0m\u001b[0mreindex\u001b[0m\u001b[0;34m(\u001b[0m\u001b[0mself\u001b[0m\u001b[0;34m.\u001b[0m\u001b[0mindex\u001b[0m\u001b[0;34m)\u001b[0m\u001b[0;34m.\u001b[0m\u001b[0m_values\u001b[0m\u001b[0;34m\u001b[0m\u001b[0;34m\u001b[0m\u001b[0m\n\u001b[0m\u001b[1;32m   3713\u001b[0m                 \u001b[0;32mexcept\u001b[0m \u001b[0mException\u001b[0m \u001b[0;32mas\u001b[0m \u001b[0me\u001b[0m\u001b[0;34m:\u001b[0m\u001b[0;34m\u001b[0m\u001b[0;34m\u001b[0m\u001b[0m\n\u001b[1;32m   3714\u001b[0m \u001b[0;34m\u001b[0m\u001b[0m\n",
            "\u001b[0;32m/usr/local/lib/python3.6/dist-packages/pandas/util/_decorators.py\u001b[0m in \u001b[0;36mwrapper\u001b[0;34m(*args, **kwargs)\u001b[0m\n\u001b[1;32m    219\u001b[0m         \u001b[0;34m@\u001b[0m\u001b[0mwraps\u001b[0m\u001b[0;34m(\u001b[0m\u001b[0mfunc\u001b[0m\u001b[0;34m)\u001b[0m\u001b[0;34m\u001b[0m\u001b[0;34m\u001b[0m\u001b[0m\n\u001b[1;32m    220\u001b[0m         \u001b[0;32mdef\u001b[0m \u001b[0mwrapper\u001b[0m\u001b[0;34m(\u001b[0m\u001b[0;34m*\u001b[0m\u001b[0margs\u001b[0m\u001b[0;34m,\u001b[0m \u001b[0;34m**\u001b[0m\u001b[0mkwargs\u001b[0m\u001b[0;34m)\u001b[0m\u001b[0;34m:\u001b[0m\u001b[0;34m\u001b[0m\u001b[0;34m\u001b[0m\u001b[0m\n\u001b[0;32m--> 221\u001b[0;31m             \u001b[0;32mreturn\u001b[0m \u001b[0mfunc\u001b[0m\u001b[0;34m(\u001b[0m\u001b[0;34m*\u001b[0m\u001b[0margs\u001b[0m\u001b[0;34m,\u001b[0m \u001b[0;34m**\u001b[0m\u001b[0mkwargs\u001b[0m\u001b[0;34m)\u001b[0m\u001b[0;34m\u001b[0m\u001b[0;34m\u001b[0m\u001b[0m\n\u001b[0m\u001b[1;32m    222\u001b[0m \u001b[0;34m\u001b[0m\u001b[0m\n\u001b[1;32m    223\u001b[0m         \u001b[0mkind\u001b[0m \u001b[0;34m=\u001b[0m \u001b[0minspect\u001b[0m\u001b[0;34m.\u001b[0m\u001b[0mParameter\u001b[0m\u001b[0;34m.\u001b[0m\u001b[0mPOSITIONAL_OR_KEYWORD\u001b[0m\u001b[0;34m\u001b[0m\u001b[0;34m\u001b[0m\u001b[0m\n",
            "\u001b[0;32m/usr/local/lib/python3.6/dist-packages/pandas/core/frame.py\u001b[0m in \u001b[0;36mreindex\u001b[0;34m(self, *args, **kwargs)\u001b[0m\n\u001b[1;32m   3974\u001b[0m         \u001b[0mkwargs\u001b[0m\u001b[0;34m.\u001b[0m\u001b[0mpop\u001b[0m\u001b[0;34m(\u001b[0m\u001b[0;34m\"axis\"\u001b[0m\u001b[0;34m,\u001b[0m \u001b[0;32mNone\u001b[0m\u001b[0;34m)\u001b[0m\u001b[0;34m\u001b[0m\u001b[0;34m\u001b[0m\u001b[0m\n\u001b[1;32m   3975\u001b[0m         \u001b[0mkwargs\u001b[0m\u001b[0;34m.\u001b[0m\u001b[0mpop\u001b[0m\u001b[0;34m(\u001b[0m\u001b[0;34m\"labels\"\u001b[0m\u001b[0;34m,\u001b[0m \u001b[0;32mNone\u001b[0m\u001b[0;34m)\u001b[0m\u001b[0;34m\u001b[0m\u001b[0;34m\u001b[0m\u001b[0m\n\u001b[0;32m-> 3976\u001b[0;31m         \u001b[0;32mreturn\u001b[0m \u001b[0msuper\u001b[0m\u001b[0;34m(\u001b[0m\u001b[0;34m)\u001b[0m\u001b[0;34m.\u001b[0m\u001b[0mreindex\u001b[0m\u001b[0;34m(\u001b[0m\u001b[0;34m**\u001b[0m\u001b[0mkwargs\u001b[0m\u001b[0;34m)\u001b[0m\u001b[0;34m\u001b[0m\u001b[0;34m\u001b[0m\u001b[0m\n\u001b[0m\u001b[1;32m   3977\u001b[0m \u001b[0;34m\u001b[0m\u001b[0m\n\u001b[1;32m   3978\u001b[0m     def drop(\n",
            "\u001b[0;32m/usr/local/lib/python3.6/dist-packages/pandas/core/generic.py\u001b[0m in \u001b[0;36mreindex\u001b[0;34m(self, *args, **kwargs)\u001b[0m\n\u001b[1;32m   4512\u001b[0m         \u001b[0;31m# perform the reindex on the axes\u001b[0m\u001b[0;34m\u001b[0m\u001b[0;34m\u001b[0m\u001b[0;34m\u001b[0m\u001b[0m\n\u001b[1;32m   4513\u001b[0m         return self._reindex_axes(\n\u001b[0;32m-> 4514\u001b[0;31m             \u001b[0maxes\u001b[0m\u001b[0;34m,\u001b[0m \u001b[0mlevel\u001b[0m\u001b[0;34m,\u001b[0m \u001b[0mlimit\u001b[0m\u001b[0;34m,\u001b[0m \u001b[0mtolerance\u001b[0m\u001b[0;34m,\u001b[0m \u001b[0mmethod\u001b[0m\u001b[0;34m,\u001b[0m \u001b[0mfill_value\u001b[0m\u001b[0;34m,\u001b[0m \u001b[0mcopy\u001b[0m\u001b[0;34m\u001b[0m\u001b[0;34m\u001b[0m\u001b[0m\n\u001b[0m\u001b[1;32m   4515\u001b[0m         ).__finalize__(self)\n\u001b[1;32m   4516\u001b[0m \u001b[0;34m\u001b[0m\u001b[0m\n",
            "\u001b[0;32m/usr/local/lib/python3.6/dist-packages/pandas/core/frame.py\u001b[0m in \u001b[0;36m_reindex_axes\u001b[0;34m(self, axes, level, limit, tolerance, method, fill_value, copy)\u001b[0m\n\u001b[1;32m   3862\u001b[0m         \u001b[0;32mif\u001b[0m \u001b[0mindex\u001b[0m \u001b[0;32mis\u001b[0m \u001b[0;32mnot\u001b[0m \u001b[0;32mNone\u001b[0m\u001b[0;34m:\u001b[0m\u001b[0;34m\u001b[0m\u001b[0;34m\u001b[0m\u001b[0m\n\u001b[1;32m   3863\u001b[0m             frame = frame._reindex_index(\n\u001b[0;32m-> 3864\u001b[0;31m                 \u001b[0mindex\u001b[0m\u001b[0;34m,\u001b[0m \u001b[0mmethod\u001b[0m\u001b[0;34m,\u001b[0m \u001b[0mcopy\u001b[0m\u001b[0;34m,\u001b[0m \u001b[0mlevel\u001b[0m\u001b[0;34m,\u001b[0m \u001b[0mfill_value\u001b[0m\u001b[0;34m,\u001b[0m \u001b[0mlimit\u001b[0m\u001b[0;34m,\u001b[0m \u001b[0mtolerance\u001b[0m\u001b[0;34m\u001b[0m\u001b[0;34m\u001b[0m\u001b[0m\n\u001b[0m\u001b[1;32m   3865\u001b[0m             )\n\u001b[1;32m   3866\u001b[0m \u001b[0;34m\u001b[0m\u001b[0m\n",
            "\u001b[0;32m/usr/local/lib/python3.6/dist-packages/pandas/core/frame.py\u001b[0m in \u001b[0;36m_reindex_index\u001b[0;34m(self, new_index, method, copy, level, fill_value, limit, tolerance)\u001b[0m\n\u001b[1;32m   3884\u001b[0m             \u001b[0mcopy\u001b[0m\u001b[0;34m=\u001b[0m\u001b[0mcopy\u001b[0m\u001b[0;34m,\u001b[0m\u001b[0;34m\u001b[0m\u001b[0;34m\u001b[0m\u001b[0m\n\u001b[1;32m   3885\u001b[0m             \u001b[0mfill_value\u001b[0m\u001b[0;34m=\u001b[0m\u001b[0mfill_value\u001b[0m\u001b[0;34m,\u001b[0m\u001b[0;34m\u001b[0m\u001b[0;34m\u001b[0m\u001b[0m\n\u001b[0;32m-> 3886\u001b[0;31m             \u001b[0mallow_dups\u001b[0m\u001b[0;34m=\u001b[0m\u001b[0;32mFalse\u001b[0m\u001b[0;34m,\u001b[0m\u001b[0;34m\u001b[0m\u001b[0;34m\u001b[0m\u001b[0m\n\u001b[0m\u001b[1;32m   3887\u001b[0m         )\n\u001b[1;32m   3888\u001b[0m \u001b[0;34m\u001b[0m\u001b[0m\n",
            "\u001b[0;32m/usr/local/lib/python3.6/dist-packages/pandas/core/generic.py\u001b[0m in \u001b[0;36m_reindex_with_indexers\u001b[0;34m(self, reindexers, fill_value, copy, allow_dups)\u001b[0m\n\u001b[1;32m   4575\u001b[0m                 \u001b[0mfill_value\u001b[0m\u001b[0;34m=\u001b[0m\u001b[0mfill_value\u001b[0m\u001b[0;34m,\u001b[0m\u001b[0;34m\u001b[0m\u001b[0;34m\u001b[0m\u001b[0m\n\u001b[1;32m   4576\u001b[0m                 \u001b[0mallow_dups\u001b[0m\u001b[0;34m=\u001b[0m\u001b[0mallow_dups\u001b[0m\u001b[0;34m,\u001b[0m\u001b[0;34m\u001b[0m\u001b[0;34m\u001b[0m\u001b[0m\n\u001b[0;32m-> 4577\u001b[0;31m                 \u001b[0mcopy\u001b[0m\u001b[0;34m=\u001b[0m\u001b[0mcopy\u001b[0m\u001b[0;34m,\u001b[0m\u001b[0;34m\u001b[0m\u001b[0;34m\u001b[0m\u001b[0m\n\u001b[0m\u001b[1;32m   4578\u001b[0m             )\n\u001b[1;32m   4579\u001b[0m \u001b[0;34m\u001b[0m\u001b[0m\n",
            "\u001b[0;32m/usr/local/lib/python3.6/dist-packages/pandas/core/internals/managers.py\u001b[0m in \u001b[0;36mreindex_indexer\u001b[0;34m(self, new_axis, indexer, axis, fill_value, allow_dups, copy)\u001b[0m\n\u001b[1;32m   1249\u001b[0m         \u001b[0;31m# some axes don't allow reindexing with dups\u001b[0m\u001b[0;34m\u001b[0m\u001b[0;34m\u001b[0m\u001b[0;34m\u001b[0m\u001b[0m\n\u001b[1;32m   1250\u001b[0m         \u001b[0;32mif\u001b[0m \u001b[0;32mnot\u001b[0m \u001b[0mallow_dups\u001b[0m\u001b[0;34m:\u001b[0m\u001b[0;34m\u001b[0m\u001b[0;34m\u001b[0m\u001b[0m\n\u001b[0;32m-> 1251\u001b[0;31m             \u001b[0mself\u001b[0m\u001b[0;34m.\u001b[0m\u001b[0maxes\u001b[0m\u001b[0;34m[\u001b[0m\u001b[0maxis\u001b[0m\u001b[0;34m]\u001b[0m\u001b[0;34m.\u001b[0m\u001b[0m_can_reindex\u001b[0m\u001b[0;34m(\u001b[0m\u001b[0mindexer\u001b[0m\u001b[0;34m)\u001b[0m\u001b[0;34m\u001b[0m\u001b[0;34m\u001b[0m\u001b[0m\n\u001b[0m\u001b[1;32m   1252\u001b[0m \u001b[0;34m\u001b[0m\u001b[0m\n\u001b[1;32m   1253\u001b[0m         \u001b[0;32mif\u001b[0m \u001b[0maxis\u001b[0m \u001b[0;34m>=\u001b[0m \u001b[0mself\u001b[0m\u001b[0;34m.\u001b[0m\u001b[0mndim\u001b[0m\u001b[0;34m:\u001b[0m\u001b[0;34m\u001b[0m\u001b[0;34m\u001b[0m\u001b[0m\n",
            "\u001b[0;32m/usr/local/lib/python3.6/dist-packages/pandas/core/indexes/base.py\u001b[0m in \u001b[0;36m_can_reindex\u001b[0;34m(self, indexer)\u001b[0m\n\u001b[1;32m   3360\u001b[0m         \u001b[0;31m# trying to reindex on an axis with duplicates\u001b[0m\u001b[0;34m\u001b[0m\u001b[0;34m\u001b[0m\u001b[0;34m\u001b[0m\u001b[0m\n\u001b[1;32m   3361\u001b[0m         \u001b[0;32mif\u001b[0m \u001b[0;32mnot\u001b[0m \u001b[0mself\u001b[0m\u001b[0;34m.\u001b[0m\u001b[0mis_unique\u001b[0m \u001b[0;32mand\u001b[0m \u001b[0mlen\u001b[0m\u001b[0;34m(\u001b[0m\u001b[0mindexer\u001b[0m\u001b[0;34m)\u001b[0m\u001b[0;34m:\u001b[0m\u001b[0;34m\u001b[0m\u001b[0;34m\u001b[0m\u001b[0m\n\u001b[0;32m-> 3362\u001b[0;31m             \u001b[0;32mraise\u001b[0m \u001b[0mValueError\u001b[0m\u001b[0;34m(\u001b[0m\u001b[0;34m\"cannot reindex from a duplicate axis\"\u001b[0m\u001b[0;34m)\u001b[0m\u001b[0;34m\u001b[0m\u001b[0;34m\u001b[0m\u001b[0m\n\u001b[0m\u001b[1;32m   3363\u001b[0m \u001b[0;34m\u001b[0m\u001b[0m\n\u001b[1;32m   3364\u001b[0m     \u001b[0;32mdef\u001b[0m \u001b[0mreindex\u001b[0m\u001b[0;34m(\u001b[0m\u001b[0mself\u001b[0m\u001b[0;34m,\u001b[0m \u001b[0mtarget\u001b[0m\u001b[0;34m,\u001b[0m \u001b[0mmethod\u001b[0m\u001b[0;34m=\u001b[0m\u001b[0;32mNone\u001b[0m\u001b[0;34m,\u001b[0m \u001b[0mlevel\u001b[0m\u001b[0;34m=\u001b[0m\u001b[0;32mNone\u001b[0m\u001b[0;34m,\u001b[0m \u001b[0mlimit\u001b[0m\u001b[0;34m=\u001b[0m\u001b[0;32mNone\u001b[0m\u001b[0;34m,\u001b[0m \u001b[0mtolerance\u001b[0m\u001b[0;34m=\u001b[0m\u001b[0;32mNone\u001b[0m\u001b[0;34m)\u001b[0m\u001b[0;34m:\u001b[0m\u001b[0;34m\u001b[0m\u001b[0;34m\u001b[0m\u001b[0m\n",
            "\u001b[0;31mValueError\u001b[0m: cannot reindex from a duplicate axis"
          ]
        }
      ]
    },
    {
      "cell_type": "code",
      "metadata": {
        "id": "P9zRr2UO6mKj",
        "colab_type": "code",
        "colab": {}
      },
      "source": [
        "L = []"
      ],
      "execution_count": 0,
      "outputs": []
    },
    {
      "cell_type": "code",
      "metadata": {
        "id": "45ugi4ye6mBb",
        "colab_type": "code",
        "colab": {}
      },
      "source": [
        "for i in range(0, 8):\n",
        "  L.append([])\n",
        "  for j in range(0, 8):\n",
        "    if (i % 2 == 0) and  (j == (i//2)):\n",
        "      L[i].append(1)\n",
        "    elif (i % 2 == 1) and (j == (i//2) + 4):\n",
        "      L[i].append(1)\n",
        "    else:\n",
        "      L[i].append(0)\n",
        "  "
      ],
      "execution_count": 0,
      "outputs": []
    },
    {
      "cell_type": "code",
      "metadata": {
        "id": "mvuZ9Cil7ena",
        "colab_type": "code",
        "colab": {}
      },
      "source": [
        "T =  []\n",
        "for i in range(0, 8):\n",
        "  T.append([])\n",
        "  for j in range(0, 8):\n",
        "    if i >= 4:\n",
        "      if j >= 4:\n",
        "        T[i].append(0)\n",
        "      else:\n",
        "        if (i == j + 4):\n",
        "          T[i].append(3)\n",
        "        else:\n",
        "          T[i].append(0)\n",
        "    else:\n",
        "      if j >= 4:\n",
        "        if (i == j - 4):\n",
        "          T[i].append(2)\n",
        "        else:\n",
        "          T[i].append(0)\n",
        "      else:\n",
        "        if (i == j):\n",
        "          T[i].append(1)\n",
        "        else:\n",
        "          T[i].append(0)\n",
        "      \n",
        "        \n",
        "        \n"
      ],
      "execution_count": 0,
      "outputs": []
    },
    {
      "cell_type": "code",
      "metadata": {
        "id": "E_2BkaXR7t1l",
        "colab_type": "code",
        "outputId": "81de6223-1021-4a35-f6bd-7ca7a8a0bb33",
        "colab": {
          "base_uri": "https://localhost:8080/",
          "height": 155
        }
      },
      "source": [
        "T"
      ],
      "execution_count": 0,
      "outputs": [
        {
          "output_type": "execute_result",
          "data": {
            "text/plain": [
              "[[1, 0, 0, 0, 2, 0, 0, 0],\n",
              " [0, 1, 0, 0, 0, 2, 0, 0],\n",
              " [0, 0, 1, 0, 0, 0, 2, 0],\n",
              " [0, 0, 0, 1, 0, 0, 0, 2],\n",
              " [3, 0, 0, 0, 0, 0, 0, 0],\n",
              " [0, 3, 0, 0, 0, 0, 0, 0],\n",
              " [0, 0, 3, 0, 0, 0, 0, 0],\n",
              " [0, 0, 0, 3, 0, 0, 0, 0]]"
            ]
          },
          "metadata": {
            "tags": []
          },
          "execution_count": 19
        }
      ]
    },
    {
      "cell_type": "code",
      "metadata": {
        "id": "2a3-bQiG9ica",
        "colab_type": "code",
        "colab": {}
      },
      "source": [
        "L_np = np.array(L)\n",
        "T_np = np.array(T)"
      ],
      "execution_count": 0,
      "outputs": []
    },
    {
      "cell_type": "code",
      "metadata": {
        "id": "h0_O0TQS963h",
        "colab_type": "code",
        "outputId": "725ee7c5-d6d2-4a39-9570-321ac12fdf82",
        "colab": {
          "base_uri": "https://localhost:8080/",
          "height": 155
        }
      },
      "source": [
        "np.dot(L_np, np.dot(T_np, (np.transpose(L_np))))"
      ],
      "execution_count": 0,
      "outputs": [
        {
          "output_type": "execute_result",
          "data": {
            "text/plain": [
              "array([[1, 2, 0, 0, 0, 0, 0, 0],\n",
              "       [3, 0, 0, 0, 0, 0, 0, 0],\n",
              "       [0, 0, 1, 2, 0, 0, 0, 0],\n",
              "       [0, 0, 3, 0, 0, 0, 0, 0],\n",
              "       [0, 0, 0, 0, 1, 2, 0, 0],\n",
              "       [0, 0, 0, 0, 3, 0, 0, 0],\n",
              "       [0, 0, 0, 0, 0, 0, 1, 2],\n",
              "       [0, 0, 0, 0, 0, 0, 3, 0]])"
            ]
          },
          "metadata": {
            "tags": []
          },
          "execution_count": 27
        }
      ]
    },
    {
      "cell_type": "code",
      "metadata": {
        "id": "IvYnHQ6U97L7",
        "colab_type": "code",
        "colab": {}
      },
      "source": [
        ""
      ],
      "execution_count": 0,
      "outputs": []
    }
  ]
}